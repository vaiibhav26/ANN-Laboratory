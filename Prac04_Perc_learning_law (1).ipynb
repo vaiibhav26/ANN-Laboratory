{
 "cells": [
  {
   "cell_type": "code",
   "execution_count": 1,
   "id": "09f8f530-0d7a-4e2d-a711-ef67989d9a3b",
   "metadata": {},
   "outputs": [],
   "source": [
    "import numpy as np\n",
    "import matplotlib.pyplot as plt"
   ]
  },
  {
   "cell_type": "code",
   "execution_count": 2,
   "id": "c14b723a-1504-4b73-9766-e08b92d082cc",
   "metadata": {},
   "outputs": [],
   "source": [
    "# Sample Dataset\n",
    "X = np.array([[1,2],[2,3],[3,1],[4,2],[2,4],[3,3]])\n",
    "y = np.array([0,0,0,1,1,1])"
   ]
  },
  {
   "cell_type": "code",
   "execution_count": 3,
   "id": "4ea71c8d-cb2a-48e4-b037-af52650f3fa1",
   "metadata": {},
   "outputs": [],
   "source": [
    "# Perceptron Learning Law\n",
    "class Perceptron:\n",
    "    def __init__(self, lr=0.1, epochs=100):\n",
    "        self.lr = lr\n",
    "        self.epochs = epochs\n",
    "\n",
    "    def fit(self, X, y):\n",
    "        # Initialize Weights and Bias\n",
    "        self.weights = np.zeros(X.shape[1])\n",
    "        self.bias = 0\n",
    "\n",
    "        for epoch in range(self.epochs):\n",
    "            for xi, yi in zip(X, y):\n",
    "                # Calculate Prediction\n",
    "                prediction = self.predict(xi)\n",
    "\n",
    "                # Update Weights and Bias\n",
    "                delta = self.lr * (yi - prediction)\n",
    "                self.weights += delta * xi\n",
    "                self.bias += delta\n",
    "\n",
    "    def predict(self, X):\n",
    "        # Calculate Activation\n",
    "        activation = np.dot(X, self.weights) + self.bias\n",
    "\n",
    "        # Apply Step Function\n",
    "        return np.where(activation >= 0, 1, 0)"
   ]
  },
  {
   "cell_type": "code",
   "execution_count": 4,
   "id": "97103e5b-6d82-4cb0-ba47-6e17b45e9175",
   "metadata": {},
   "outputs": [],
   "source": [
    "# Train Perceptron\n",
    "perceptron = Perceptron(lr=0.1, epochs=100)\n",
    "perceptron.fit(X,y)"
   ]
  },
  {
   "cell_type": "code",
   "execution_count": 5,
   "id": "e78b1e6b-4722-4148-b87f-ec368b05311f",
   "metadata": {},
   "outputs": [
    {
     "data": {
      "text/plain": [
       "array([0.6, 0.3])"
      ]
     },
     "execution_count": 5,
     "metadata": {},
     "output_type": "execute_result"
    }
   ],
   "source": [
    "perceptron.weights"
   ]
  },
  {
   "cell_type": "code",
   "execution_count": 6,
   "id": "7f8ea8c2-31af-407d-8a35-1cbed95d1d00",
   "metadata": {},
   "outputs": [
    {
     "data": {
      "text/plain": [
       "-2.3000000000000007"
      ]
     },
     "execution_count": 6,
     "metadata": {},
     "output_type": "execute_result"
    }
   ],
   "source": [
    "perceptron.bias"
   ]
  },
  {
   "cell_type": "code",
   "execution_count": 7,
   "id": "9b988fdb-adec-4afc-b708-887848668f05",
   "metadata": {},
   "outputs": [
    {
     "data": {
      "text/plain": [
       "100"
      ]
     },
     "execution_count": 7,
     "metadata": {},
     "output_type": "execute_result"
    }
   ],
   "source": [
    "perceptron.epochs"
   ]
  },
  {
   "cell_type": "code",
   "execution_count": 8,
   "id": "8a06db56-9900-408e-90e7-8e33c3a86526",
   "metadata": {},
   "outputs": [
    {
     "data": {
      "text/plain": [
       "array([[0, 0, 0, ..., 1, 1, 1],\n",
       "       [0, 0, 0, ..., 1, 1, 1],\n",
       "       [0, 0, 0, ..., 1, 1, 1],\n",
       "       ...,\n",
       "       [0, 0, 0, ..., 1, 1, 1],\n",
       "       [0, 0, 0, ..., 1, 1, 1],\n",
       "       [0, 0, 0, ..., 1, 1, 1]])"
      ]
     },
     "execution_count": 8,
     "metadata": {},
     "output_type": "execute_result"
    }
   ],
   "source": [
    "# Decision Regions\n",
    "x_min, x_max = X[:,0].min() -1, X[:,0].max() +1\n",
    "y_min, y_max = X[:,1].min() -1, X[:,0].max() +1\n",
    "\n",
    "xx, yy = np.meshgrid(np.arange(x_min, x_max, 0.02), np.arange(y_min, y_max, 0.02))\n",
    "\n",
    "Z = perceptron.predict(np.c_[xx.ravel(), yy.ravel()])\n",
    "Z = Z.reshape(xx.shape)\n",
    "Z"
   ]
  },
  {
   "cell_type": "code",
   "execution_count": 9,
   "id": "f7f1fca5-edda-4550-9cf2-cdd7e4332409",
   "metadata": {},
   "outputs": [
    {
     "data": {
      "image/png": "[encoded data removed]",
      "text/plain": [
       "<Figure size 640x480 with 1 Axes>"
      ]
     },
     "metadata": {},
     "output_type": "display_data"
    }
   ],
   "source": [
    "# Plot Results\n",
    "plt.contourf(xx, yy, Z, alpha=0.4)\n",
    "plt.scatter(X[:,0], X[:,1], c=y, cmap=plt.cm.Paired)\n",
    "plt.xlabel('Feature 1')\n",
    "plt.ylabel('Feature 2')\n",
    "plt.title('Perceptron Decision Regions')\n",
    "plt.show()"
   ]
  },
  {
   "cell_type": "code",
   "execution_count": null,
   "id": "de6329cc-dd49-4b9e-9f3a-967663fd152a",
   "metadata": {},
   "outputs": [],
   "source": []
  }
 ],
 "metadata": {
  "kernelspec": {
   "display_name": "Python 3 (ipykernel)",
   "language": "python",
   "name": "python3"
  },
  "language_info": {
   "codemirror_mode": {
    "name": "ipython",
    "version": 3
   },
   "file_extension": ".py",
   "mimetype": "text/x-python",
   "name": "python",
   "nbconvert_exporter": "python",
   "pygments_lexer": "ipython3",
   "version": "3.11.7"
  }
 },
 "nbformat": 4,
 "nbformat_minor": 5
}
