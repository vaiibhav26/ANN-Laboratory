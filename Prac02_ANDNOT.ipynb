{
 "cells": [
  {
   "cell_type": "code",
   "execution_count": 3,
   "id": "4c421ea0-0616-4096-b7be-e302627f5ca4",
   "metadata": {},
   "outputs": [],
   "source": [
    "import numpy as np\n",
    "\n",
    "# Define the MP Neuron Function\n",
    "def mp_neuron(inputs, weights, threshold):\n",
    "    net = np.dot(inputs, weights)\n",
    "    if net >= threshold:\n",
    "        return 1\n",
    "    else:\n",
    "        return 0"
   ]
  },
  {
   "cell_type": "code",
   "execution_count": 4,
   "id": "ae249a16-af6b-4e81-92a7-7776eb00e81b",
   "metadata": {},
   "outputs": [],
   "source": [
    "# Design the Neural Network for ANDNOT function\n",
    "def andnot_nn(inputs):\n",
    "    # Define weights and threshold for each neuron in the first layer\n",
    "    weights_1 = [1, -1]  # Represents A\n",
    "    weights_2 = [-1, 1]  # Represents NOT B\n",
    "    threshold = 0.5\n",
    "    \n",
    "    # Compute the output of the two neurons in the first layer\n",
    "    output_1 = mp_neuron(inputs, weights_1, threshold)\n",
    "    output_2 = mp_neuron(inputs, weights_2, threshold)\n",
    "    \n",
    "    # Compute the final output of the ANDNOT function\n",
    "    if output_1 == 1 and output_2 == 0:\n",
    "        return 1\n",
    "    else:\n",
    "        return 0"
   ]
  },
  {
   "cell_type": "code",
   "execution_count": 7,
   "id": "0c118e2c-dc0e-410e-8dc1-7bdefdb34075",
   "metadata": {},
   "outputs": [],
   "source": [
    "# Define input patterns for the ANDNOT function\n",
    "outputs = []\n",
    "\n"
   ]
  },
  {
   "cell_type": "code",
   "execution_count": null,
   "id": "e927bed4-4c87-48e5-8c69-7c3b69c640ab",
   "metadata": {},
   "outputs": [],
   "source": [
    "# Compute outputs for each input pattern\n",
    "for i in range(inputs.shape[0]):\n",
    "    y = andnot_nn(inputs[i])\n",
    "    outputs.append(y)\n"
   ]
  },
  {
   "cell_type": "code",
   "execution_count": null,
   "id": "fa06a025-aa08-467f-9eb1-3bfd0de4ab89",
   "metadata": {},
   "outputs": [],
   "source": []
  },
  {
   "cell_type": "code",
   "execution_count": null,
   "id": "90070859-7b69-41f3-bc49-bcaba28aa4c4",
   "metadata": {},
   "outputs": [],
   "source": []
  }
 ],
 "metadata": {
  "kernelspec": {
   "display_name": "Python 3 (ipykernel)",
   "language": "python",
   "name": "python3"
  },
  "language_info": {
   "codemirror_mode": {
    "name": "ipython",
    "version": 3
   },
   "file_extension": ".py",
   "mimetype": "text/x-python",
   "name": "python",
   "nbconvert_exporter": "python",
   "pygments_lexer": "ipython3",
   "version": "3.11.7"
  }
 },
 "nbformat": 4,
 "nbformat_minor": 5
}
