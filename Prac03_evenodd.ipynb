{
 "cells": [
  {
   "cell_type": "code",
   "execution_count": 9,
   "id": "18cce116-6dfa-438e-9861-916bea317723",
   "metadata": {},
   "outputs": [],
   "source": [
    "import numpy as np"
   ]
  },
  {
   "cell_type": "code",
   "execution_count": 11,
   "id": "25c22cf9-e464-41dd-a23b-76530c197d57",
   "metadata": {},
   "outputs": [
    {
     "name": "stdin",
     "output_type": "stream",
     "text": [
      "Enter a Number from 0 -9:  4\n"
     ]
    }
   ],
   "source": [
    "j = int(input(\"Enter a Number from 0 -9: \"))\n",
    "step_function = lambda x: 1 if x >= 0 else 0"
   ]
  },
  {
   "cell_type": "code",
   "execution_count": null,
   "id": "37fead70-08d1-4c2c-b6c9-ee019b7a439b",
   "metadata": {},
   "outputs": [],
   "source": [
    "training_data = [\n",
    "    {'input' : [1,1,0,0,0,0],'label': 1},\n",
    "    {'input' : [1,1,0,0,0,1],'label': 0},\n",
    "    {'input' : [1,1,0,0,1,0],'label': 1},\n",
    "    {'input' : [1,1,0,1,1,1],'label': 0},\n",
    "    {'input' : [1,1,0,1,0,0],'label': 1},\n",
    "    {'input' : [1,1,0,1,0,1],'label': 0},\n",
    "    {'input' : [1,1,0,1,1,0],'label': 1},\n",
    "    {'input' : [1,1,0,1,1,1],'label': 0},\n",
    "    {'input' : [1,1,1,0,0,0],'label': 1},\n",
    "    {'input' : [1,1,1,0,0,1],'label': 0},\n",
    "        \n",
    "]"
   ]
  },
  {
   "cell_type": "code",
   "execution_count": null,
   "id": "8b2a57c0-f780-4c02-aafb-83c0c9d9a9fa",
   "metadata": {},
   "outputs": [],
   "source": [
    "weights = np.array([0,0,0,0,0,1])"
   ]
  },
  {
   "cell_type": "code",
   "execution_count": null,
   "id": "6713bf2c-ac65-4ff7-9864-71651b54e6f9",
   "metadata": {},
   "outputs": [],
   "source": [
    "for data in training_data:\n",
    "    input = np.array(data['input'])\n",
    "    label = data['label']\n",
    "    output = step_function(np.dot(input,weights))\n",
    "    error = label - output\n",
    "    weights += input *error"
   ]
  },
  {
   "cell_type": "code",
   "execution_count": null,
   "id": "20a36388-d1d1-43c1-9f6d-8a57c4e6ed01",
   "metadata": {},
   "outputs": [],
   "source": [
    "input = np.array([int(x) for x in list ('{0:06b}'.format(j))])\n",
    "output = \"odd\" if step_function(np.dot(input,weights)) == 0 else \"even\""
   ]
  }
 ],
 "metadata": {
  "kernelspec": {
   "display_name": "Python 3 (ipykernel)",
   "language": "python",
   "name": "python3"
  },
  "language_info": {
   "codemirror_mode": {
    "name": "ipython",
    "version": 3
   },
   "file_extension": ".py",
   "mimetype": "text/x-python",
   "name": "python",
   "nbconvert_exporter": "python",
   "pygments_lexer": "ipython3",
   "version": "3.11.7"
  }
 },
 "nbformat": 4,
 "nbformat_minor": 5
}
